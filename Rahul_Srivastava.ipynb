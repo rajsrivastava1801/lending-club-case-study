{
 "cells": [
  {
   "cell_type": "markdown",
   "id": "e321a623",
   "metadata": {},
   "source": [
    "## Lending Club Case Study"
   ]
  },
  {
   "cell_type": "markdown",
   "id": "641e5df0",
   "metadata": {},
   "source": [
    "This project explores how to identify risky loan applicants using Exploratory Data Analysis (EDA). We analyze past loan data to understand factors that influence whether a person will default on a loan."
   ]
  },
  {
   "cell_type": "markdown",
   "id": "6985d298",
   "metadata": {},
   "source": [
    "#### Import Required Libraries"
   ]
  },
  {
   "cell_type": "code",
   "execution_count": 15,
   "id": "9a7a7ba8",
   "metadata": {},
   "outputs": [],
   "source": [
    "import numpy as np;\n",
    "import pandas as pd;\n",
    "import matplotlib.pyplot as plt;\n",
    "import seaborn as sns;"
   ]
  },
  {
   "cell_type": "markdown",
   "id": "572314ce",
   "metadata": {},
   "source": [
    "#### Data Extracting - Load CSV file into data frame"
   ]
  },
  {
   "cell_type": "code",
   "execution_count": 26,
   "id": "79265562",
   "metadata": {},
   "outputs": [],
   "source": [
    "loandf=pd.read_csv('C:\\\\Users\\\\RS24050\\\\Desktop\\\\loan.csv',low_memory=False);"
   ]
  },
  {
   "cell_type": "code",
   "execution_count": 12,
   "id": "cd29379e",
   "metadata": {},
   "outputs": [],
   "source": [
    "## Increasing the row size as many of the results are getting hidden ##\n",
    "## due to large number of rows return as part of compytation. ##\n",
    "\n",
    "pd.options.display.max_rows = 20000"
   ]
  },
  {
   "cell_type": "markdown",
   "id": "e80409d8",
   "metadata": {},
   "source": [
    "#### Analyze dataframe head post loading the CSV File"
   ]
  },
  {
   "cell_type": "code",
   "execution_count": null,
   "id": "e2c58b20",
   "metadata": {},
   "outputs": [],
   "source": [
    "loandf.head()\n"
   ]
  },
  {
   "cell_type": "code",
   "execution_count": null,
   "id": "943e5b24",
   "metadata": {},
   "outputs": [],
   "source": [
    "loandf.info()"
   ]
  },
  {
   "cell_type": "markdown",
   "id": "8ad25068",
   "metadata": {},
   "source": [
    "#### Data Cleaning"
   ]
  },
  {
   "cell_type": "markdown",
   "id": "2999b7df",
   "metadata": {},
   "source": [
    "##### Check percentage of null values in each coloums in loan datafarme"
   ]
  },
  {
   "cell_type": "code",
   "execution_count": null,
   "id": "9902c9b4",
   "metadata": {},
   "outputs": [],
   "source": [
    "loandf.isnull().sum()/len(loandf)*100"
   ]
  },
  {
   "cell_type": "markdown",
   "id": "57e02380",
   "metadata": {},
   "source": [
    "##### We can see that there are coloums which are not having any values (100% null values)\n",
    "##### and high percent of null values:\n",
    "#####   1. 60%+ [mths_since_last_delinq]\n",
    "#####  2. 90%+ [mths_since_last_record, next_pymnt_d]\n",
    "##### We need to drop these coloums from dataframe"
   ]
  },
  {
   "cell_type": "code",
   "execution_count": null,
   "id": "579d5b33",
   "metadata": {},
   "outputs": [],
   "source": [
    "\n",
    "## getting all coloms have 100% null values and droping them \n",
    "loandf.dropna(axis=1,how='all',inplace=True)\n",
    "\n",
    "## droping other coloums with high percentage of null values.\n",
    "drop_list= ['mths_since_last_delinq','mths_since_last_record', 'next_pymnt_d']\n",
    "thisFilter = loandf.filter(drop_list)\n",
    "loandf.drop(thisFilter, inplace=True, axis=1)\n",
    "loandf.info()"
   ]
  },
  {
   "cell_type": "code",
   "execution_count": 37,
   "id": "3694f9e1",
   "metadata": {},
   "outputs": [],
   "source": [
    "## Droping single value colums\n",
    "for column in loandf.columns:\n",
    "    if loandf[column].value_counts().shape[0]==1:\n",
    "            print(\"*****\"+column+\"*******\")\n",
    "            loandf.drop([column],axis=1,inplace=True)"
   ]
  },
  {
   "cell_type": "markdown",
   "id": "62ce8d2f",
   "metadata": {},
   "source": [
    "#### Data Manipulation"
   ]
  },
  {
   "cell_type": "code",
   "execution_count": null,
   "id": "e66a486b",
   "metadata": {},
   "outputs": [],
   "source": [
    "## Since we can see that there are more that 25000 distinct employee title so we cannot categorize them into relvent bins\n",
    "## and thus title wise loan defaulter will not be help full rather we can use employee length for same \n",
    "## id, member_id, url,desc,title are not useful for defaulter analysis \n",
    "## we can give analysis at state level rather than zip_code level that, that can be more helpful\n",
    "\n",
    "drop_list= ['id','member_id','url','desc','emp_title','title','zip_code']\n",
    "thisFilter = loandf.filter(drop_list)\n",
    "loandf.drop(thisFilter, inplace=True, axis=1)\n",
    "loandf.info()\n"
   ]
  },
  {
   "cell_type": "code",
   "execution_count": null,
   "id": "b302b2cc",
   "metadata": {},
   "outputs": [],
   "source": [
    "info_which_are_not_available_at_loan_approval_time=['installment',\n",
    "                                                    'delinq_2yrs',\n",
    "                                                    'inq_last_6mths',\n",
    "                                                    'open_acc',\n",
    "                                                    'total_acc',\n",
    "                                                    'out_prncp',\n",
    "                                                    'out_prncp_inv',\n",
    "                                                    'total_pymnt',\n",
    "                                                    'total_pymnt_inv',\n",
    "                                                    'total_rec_prncp',\n",
    "                                                    'total_rec_int',\n",
    "                                                    'total_rec_late_fee',\n",
    "                                                    'recoveries',\n",
    "                                                    'collection_recovery_fee',\n",
    "                                                    'last_pymnt_d',\n",
    "                                                    'last_pymnt_amnt',\n",
    "                                                    'last_credit_pull_d',                                                    \n",
    "                                                   ]\n",
    "thisFilter = loandf.filter(info_which_are_not_available_at_loan_approval_time)\n",
    "loandf.drop(thisFilter, inplace=True, axis=1)\n",
    "loandf.info()\n"
   ]
  },
  {
   "cell_type": "code",
   "execution_count": null,
   "id": "8528db08-00a5-4f79-8c90-30554cc10c1b",
   "metadata": {},
   "outputs": [],
   "source": [
    "loandf.isnull().sum()/len(loandf)*100"
   ]
  },
  {
   "cell_type": "code",
   "execution_count": null,
   "id": "9385bda7-3d0f-4189-9463-e4567842fb18",
   "metadata": {},
   "outputs": [],
   "source": [
    "loandf.emp_length.value_counts()"
   ]
  },
  {
   "cell_type": "code",
   "execution_count": null,
   "id": "68849269-9c3d-4c16-b27d-ce29e9075029",
   "metadata": {},
   "outputs": [],
   "source": [
    "loandf.emp_length.fillna(loandf.emp_length.mode()[0],inplace=True)"
   ]
  },
  {
   "cell_type": "code",
   "execution_count": null,
   "id": "e9d216ab-5df6-469d-a122-1265d0dfe3bc",
   "metadata": {},
   "outputs": [],
   "source": [
    "loandf.emp_length.value_counts()"
   ]
  },
  {
   "cell_type": "code",
   "execution_count": 21,
   "id": "6ac14cba-09e5-4e0a-adba-ca552aa153e7",
   "metadata": {},
   "outputs": [],
   "source": [
    "## Convert intrest rate to float"
   ]
  },
  {
   "cell_type": "code",
   "execution_count": 22,
   "id": "b3127c54-c89e-4b4e-9494-ae88027a424c",
   "metadata": {},
   "outputs": [],
   "source": [
    "loandf[\"int_rate\"]=loandf[\"int_rate\"].apply(lambda x : float(x[0:-1] if x[-1]=='%' else x ))"
   ]
  },
  {
   "cell_type": "code",
   "execution_count": null,
   "id": "38e2fd77-10de-42ae-ae0c-f5fc5b813f66",
   "metadata": {},
   "outputs": [],
   "source": [
    "loandf[\"int_rate\"]"
   ]
  },
  {
   "cell_type": "code",
   "execution_count": null,
   "id": "92ef6704-fbad-4db2-b2f6-0f25a46832a7",
   "metadata": {},
   "outputs": [],
   "source": [
    "loandf.isnull().sum()/len(loandf)*100"
   ]
  },
  {
   "cell_type": "code",
   "execution_count": null,
   "id": "56e3912b-5376-4639-a00b-91d0b7e51d0c",
   "metadata": {},
   "outputs": [],
   "source": [
    "loandf[loandf.revol_util.isna()][['loan_status']].value_counts()"
   ]
  },
  {
   "cell_type": "code",
   "execution_count": null,
   "id": "f7355410-b390-4171-8336-fee1c97ddc5c",
   "metadata": {},
   "outputs": [],
   "source": [
    "loandf.shape"
   ]
  },
  {
   "cell_type": "code",
   "execution_count": 27,
   "id": "9ba98353-3917-416d-ad95-0fe7dd16ef3f",
   "metadata": {},
   "outputs": [],
   "source": [
    "loandf.drop(loandf[loandf.revol_util.isna()].index, inplace=True)"
   ]
  },
  {
   "cell_type": "code",
   "execution_count": null,
   "id": "78711aaa-c5a3-4d4b-a631-0ad4e646dc9c",
   "metadata": {},
   "outputs": [],
   "source": [
    "loandf.shape"
   ]
  },
  {
   "cell_type": "code",
   "execution_count": null,
   "id": "b855ddfa-e081-47b5-8b4a-8bbe0fac416f",
   "metadata": {},
   "outputs": [],
   "source": [
    "len(loandf[(loandf.pub_rec_bankruptcies.isna()) & (loandf.loan_status==\"Charged Off\")])"
   ]
  },
  {
   "cell_type": "code",
   "execution_count": null,
   "id": "a0bbd680-9bb0-4d6f-9b89-59dfe1b9bfe0",
   "metadata": {},
   "outputs": [],
   "source": [
    "len(loandf[(loandf.pub_rec_bankruptcies.isna()) & (loandf.loan_status!=\"Charged Off\")])"
   ]
  },
  {
   "cell_type": "code",
   "execution_count": null,
   "id": "e09c517f-123a-4c14-a13f-7cc3337e5957",
   "metadata": {},
   "outputs": [],
   "source": [
    "loandf[(~loandf.pub_rec_bankruptcies.isna()) & (loandf.loan_status==\"Charged Off\")][['pub_rec_bankruptcies']].value_counts()"
   ]
  },
  {
   "cell_type": "code",
   "execution_count": null,
   "id": "7119c19c-d602-42e3-a8b5-4ff334240469",
   "metadata": {},
   "outputs": [],
   "source": [
    "#loandf.drop(['pub_rec_bankruptcies'],axis=1,inplace=True)\n",
    "loandf[(~loandf.pub_rec_bankruptcies.isna()) & (loandf.loan_status!=\"Charged Off\")][['pub_rec_bankruptcies']].value_counts()"
   ]
  },
  {
   "cell_type": "code",
   "execution_count": null,
   "id": "8ea76151-fceb-4a83-a258-933aac69257b",
   "metadata": {},
   "outputs": [],
   "source": [
    "loandf.pub_rec_bankruptcies.fillna(loandf.pub_rec_bankruptcies.mode()[0],inplace=True)"
   ]
  },
  {
   "cell_type": "code",
   "execution_count": null,
   "id": "f598e549-6588-4064-8deb-92f5d0a692d4",
   "metadata": {},
   "outputs": [],
   "source": [
    "loandf.pub_rec_bankruptcies.isna().sum()"
   ]
  },
  {
   "cell_type": "code",
   "execution_count": null,
   "id": "4e0263ef-d189-4930-9713-13d417e6a426",
   "metadata": {},
   "outputs": [],
   "source": [
    "loandf.info()"
   ]
  },
  {
   "cell_type": "code",
   "execution_count": 36,
   "id": "feb77f1e-381d-44dc-9a60-712bb20b3391",
   "metadata": {},
   "outputs": [],
   "source": [
    "## Extracting month and year\n",
    "loandf[\"issue_month\"]=loandf['issue_d'].apply(lambda dt: dt.split(\"-\")[0])     \n",
    "loandf[\"issue_year\"]=loandf['issue_d'].apply(lambda dt: dt.split(\"-\")[1])  "
   ]
  },
  {
   "cell_type": "code",
   "execution_count": null,
   "id": "56557618-c35a-42eb-aded-39d833dafef1",
   "metadata": {},
   "outputs": [],
   "source": [
    "loandf.dti.describe()"
   ]
  },
  {
   "cell_type": "code",
   "execution_count": 38,
   "id": "03126cdd-c706-4040-9c31-398533c1dc68",
   "metadata": {},
   "outputs": [],
   "source": [
    "#[0-5)[5-10)[10,15)[15,20)[20,25)[25,30)\n",
    "def dticut(dti):\n",
    "    if dti>=0 and dti<5 :\n",
    "        return \"0-5%\"\n",
    "    elif dti>=5 and dti<10 :\n",
    "        return \"5-10%\"\n",
    "    elif dti>=10 and dti<15:\n",
    "        return \"10-15%\"\n",
    "    elif dti>=15 and dti<20:\n",
    "        return \"15-20%\"\n",
    "    elif dti>=20 and dti<25:\n",
    "        return \"20-25%\"\n",
    "    elif dti>=25 and dti<30:\n",
    "        return \"25-30%\"\n",
    "    else:\n",
    "        return \"30+%\"\n",
    "loandf['dti_group']=loandf.dti.apply(lambda x: dticut(x))"
   ]
  },
  {
   "cell_type": "code",
   "execution_count": 39,
   "id": "d8ec2204-1088-4716-9cfa-90c2693cdb9f",
   "metadata": {},
   "outputs": [],
   "source": [
    "#[0-5)[5-10)[10,15)[15,20)[20,25)\n",
    "def intrest_rate_cut(int_rate):\n",
    "    if int_rate>=0 and int_rate<5 :\n",
    "        return \"0-5%\"\n",
    "    elif int_rate>=5 and int_rate<10 :\n",
    "        return \"5-10%\"\n",
    "    elif int_rate>=10 and int_rate<15:\n",
    "        return \"10-15%\"\n",
    "    elif int_rate>=15 and int_rate<20:\n",
    "        return \"15-20%\"\n",
    "    else:\n",
    "        return \"20-25%\"   \n",
    "loandf['intrest_rate_group']=loandf.int_rate.apply(lambda x: intrest_rate_cut(x))"
   ]
  },
  {
   "cell_type": "code",
   "execution_count": null,
   "id": "b08f1787-8a24-4713-a8ce-3a31400c18eb",
   "metadata": {},
   "outputs": [],
   "source": [
    "sns.boxplot(y=loandf.annual_inc)"
   ]
  },
  {
   "cell_type": "code",
   "execution_count": null,
   "id": "bec1d626-0171-4f64-b70b-4d79115de893",
   "metadata": {},
   "outputs": [],
   "source": [
    "loandf.annual_inc.describe()"
   ]
  },
  {
   "cell_type": "code",
   "execution_count": null,
   "id": "90124992-40d4-4a0e-8e8b-9bc953d179a2",
   "metadata": {},
   "outputs": [],
   "source": [
    "np.percentile(loandf.annual_inc,[25,75,50])"
   ]
  },
  {
   "cell_type": "code",
   "execution_count": null,
   "id": "913f32d1-98fb-4acd-97b1-df54d767517c",
   "metadata": {},
   "outputs": [],
   "source": [
    "qutile=np.percentile(loandf.annual_inc,[25,75])\n",
    "iqr=qutile[1]-qutile[0]\n",
    "iqr\n",
    "hb=qutile[1]+( iqr*1.5)\n",
    "loandf[(loandf.annual_inc>hb)][['annual_inc','loan_status']].sort_values(by=\"annual_inc\",ascending=False)\n",
    "loandf[(loandf.annual_inc>hb)].shape"
   ]
  },
  {
   "cell_type": "code",
   "execution_count": 44,
   "id": "03f2dfe4-9af6-4fa2-a45a-cf1962c81aab",
   "metadata": {},
   "outputs": [],
   "source": [
    "loandf.drop(loandf[(loandf.annual_inc>hb)].index,inplace=True)"
   ]
  },
  {
   "cell_type": "code",
   "execution_count": null,
   "id": "64364cd3-5c2c-4ddb-b093-4d232a222714",
   "metadata": {},
   "outputs": [],
   "source": [
    "loandf[(loandf.annual_inc>hb)].shape"
   ]
  },
  {
   "cell_type": "code",
   "execution_count": null,
   "id": "fc71b5be-9343-469b-ad09-1fe09dc35be0",
   "metadata": {},
   "outputs": [],
   "source": [
    "hb"
   ]
  },
  {
   "cell_type": "code",
   "execution_count": null,
   "id": "fc5ecd3a-f667-434c-a588-d0ecab99e4fc",
   "metadata": {},
   "outputs": [],
   "source": [
    "sns.boxplot(y=loandf.annual_inc)"
   ]
  },
  {
   "cell_type": "code",
   "execution_count": null,
   "id": "9e8a1f1f-6e4e-4d98-ac8f-49ecb3cc65a6",
   "metadata": {},
   "outputs": [],
   "source": [
    "sns.boxplot(y=loandf.loan_amnt)"
   ]
  },
  {
   "cell_type": "code",
   "execution_count": null,
   "id": "e9bc4ac8-6289-4635-8156-d0d266199730",
   "metadata": {},
   "outputs": [],
   "source": [
    "loandf[loandf.loan_amnt>32000].shape"
   ]
  },
  {
   "cell_type": "code",
   "execution_count": null,
   "id": "92df2386-a6a9-4b59-85bb-f8a8652bdc0f",
   "metadata": {},
   "outputs": [],
   "source": [
    "sns.boxplot(y=loandf.int_rate)"
   ]
  },
  {
   "cell_type": "code",
   "execution_count": null,
   "id": "d1528549-a640-4fd3-8177-f85a0828e02d",
   "metadata": {},
   "outputs": [],
   "source": [
    "qutile=np.percentile(loandf.int_rate,[25,75])\n",
    "iqr=qutile[1]-qutile[0]\n",
    "iqr\n",
    "hb=qutile[1]+( iqr*1.5)\n",
    "hb"
   ]
  },
  {
   "cell_type": "code",
   "execution_count": 52,
   "id": "be4b49b6-18ac-437d-b461-d7c3d3be360a",
   "metadata": {},
   "outputs": [],
   "source": [
    "loandf.drop(loandf[(loandf.int_rate>hb)].index,inplace=True)"
   ]
  },
  {
   "cell_type": "code",
   "execution_count": null,
   "id": "708e680b-5bc1-43a4-a064-f9e6755e3056",
   "metadata": {},
   "outputs": [],
   "source": [
    "sns.boxplot(loandf.dti)"
   ]
  },
  {
   "cell_type": "code",
   "execution_count": null,
   "id": "66030c3e-c56f-4238-84fd-0fc786494626",
   "metadata": {},
   "outputs": [],
   "source": [
    "sns.countplot(x=loandf.term,hue=loandf.loan_status)"
   ]
  },
  {
   "cell_type": "code",
   "execution_count": null,
   "id": "0b2d84ae-8639-4e50-8d85-81ecf33b8c8f",
   "metadata": {},
   "outputs": [],
   "source": [
    "sns.countplot(x=loandf.grade,hue=loandf.loan_status,order=loandf.grade.value_counts().index.sort_values())"
   ]
  },
  {
   "cell_type": "code",
   "execution_count": null,
   "id": "f9aa8925-bb43-415a-9e99-cf70ea32ee6c",
   "metadata": {},
   "outputs": [],
   "source": [
    "plt.rcParams[\"figure.figsize\"] = [10.00, 6]\n",
    "plt.rcParams[\"figure.autolayout\"] = True\n",
    "fig,ax=plt.subplots(ncols=2,nrows=1,sharex=True,sharey=True)\n",
    "for tick in ax[0].get_xticklabels():\n",
    "    tick.set_rotation(90)\n",
    "for tick in ax[1].get_xticklabels():\n",
    "    tick.set_rotation(90)\n",
    "sns.countplot(x=loandf.sub_grade,hue=loandf.loan_status,order=loandf.sub_grade.value_counts().index.sort_values(),ax=ax[0])\n",
    "\n",
    "ch=loandf[loandf.loan_status==\"Charged Off\"]\n",
    "sns.countplot(x=ch.sub_grade,order=sorted(ch.sub_grade.unique()),ax=ax[1])\n",
    "\n",
    "plt.xticks(rotation=90)\n",
    "plt.show()"
   ]
  },
  {
   "cell_type": "code",
   "execution_count": null,
   "id": "f79f3781-7ac1-4a12-b137-75e4b40bc519",
   "metadata": {},
   "outputs": [],
   "source": [
    "sns.countplot(x=loandf.emp_length,order=['< 1 year','1 year','2 years','3 years','4 years','5 years','6 years','7 years','8 years','9 years','10+ years'])"
   ]
  },
  {
   "cell_type": "code",
   "execution_count": null,
   "id": "5c12075e-8b3c-41a2-abc4-d11f16d00e5c",
   "metadata": {},
   "outputs": [],
   "source": [
    "loandf.home_ownership.value_counts()"
   ]
  },
  {
   "cell_type": "code",
   "execution_count": 59,
   "id": "55b709f1-f8e3-4852-8ced-e9c947a18eb4",
   "metadata": {},
   "outputs": [],
   "source": [
    "# None is not a valid values for home ownership so we can  assign the equivalnet valid values which is OTHER"
   ]
  },
  {
   "cell_type": "code",
   "execution_count": 60,
   "id": "4748d5e8-8b11-4548-bf00-d54735d5dc24",
   "metadata": {},
   "outputs": [],
   "source": [
    "loandf[\"home_ownership\"]=loandf.home_ownership.apply(lambda x : \"OTHER\" if x==\"NONE\" else x)"
   ]
  },
  {
   "cell_type": "code",
   "execution_count": null,
   "id": "7acc63b7-651c-41f9-bc6d-d64733906bbf",
   "metadata": {},
   "outputs": [],
   "source": [
    "sns.countplot(x=loandf.home_ownership)"
   ]
  },
  {
   "cell_type": "code",
   "execution_count": null,
   "id": "ac4c102e-7a4f-41ca-b2af-431202920f73",
   "metadata": {},
   "outputs": [],
   "source": [
    "sns.countplot(x=loandf.verification_status)"
   ]
  },
  {
   "cell_type": "code",
   "execution_count": null,
   "id": "741fc09e-b314-4146-bc7c-c6ba561cf914",
   "metadata": {},
   "outputs": [],
   "source": [
    "sns.countplot(x=loandf.issue_year,hue=loandf.loan_status)"
   ]
  },
  {
   "cell_type": "code",
   "execution_count": null,
   "id": "14675e37-6023-499c-b1be-bf0ebf5201f0",
   "metadata": {},
   "outputs": [],
   "source": [
    "sns.countplot(x=loandf.purpose,hue=loandf.loan_status)\n",
    "plt.xticks(rotation=90)\n",
    "plt.show()"
   ]
  },
  {
   "cell_type": "code",
   "execution_count": null,
   "id": "1db29f3d-2e4c-4b30-a30f-eac8b2c745a2",
   "metadata": {},
   "outputs": [],
   "source": [
    "sns.countplot(x=loandf.addr_state)\n",
    "plt.xticks(rotation=90)\n",
    "plt.show()"
   ]
  },
  {
   "cell_type": "code",
   "execution_count": null,
   "id": "b89fff56-a137-4bd3-97f6-40a2c99c4bff",
   "metadata": {},
   "outputs": [],
   "source": [
    "sns.countplot(x=loandf.pub_rec,hue=loandf.loan_status)\n",
    "plt.show()"
   ]
  },
  {
   "cell_type": "code",
   "execution_count": null,
   "id": "8b835c3a-281c-42f9-8385-3edf49e73218",
   "metadata": {},
   "outputs": [],
   "source": [
    "sns.countplot(x=loandf.pub_rec_bankruptcies,hue=loandf.loan_status)\n",
    "plt.show()"
   ]
  },
  {
   "cell_type": "markdown",
   "id": "00509a6b-484a-43ed-b1ca-882a0b1b0bf8",
   "metadata": {},
   "source": [
    "## BiVariat Analysis"
   ]
  },
  {
   "cell_type": "code",
   "execution_count": null,
   "id": "29a81472-ffda-408c-8b57-cfa2e0dfc622",
   "metadata": {},
   "outputs": [],
   "source": [
    "plt.rcParams[\"figure.figsize\"] = [10.00, 6]\n",
    "plt.rcParams[\"figure.autolayout\"] = True\n",
    "fig,ax=plt.subplots(ncols=2,nrows=1,sharex=True,sharey=False)\n",
    "for tick in ax[0].get_xticklabels():\n",
    "    tick.set_rotation(90)\n",
    "for tick in ax[1].get_xticklabels():\n",
    "    tick.set_rotation(90)\n",
    "sns.countplot(x=loandf.dti_group,hue=loandf.loan_status,order=[\"0-5%\",\"5-10%\",\"10-15%\",\"15-20%\",\"20-25%\",\"25-30%\"],ax=ax[0])\n",
    "\n",
    "o=[\"0-5%\",\"5-10%\",\"10-15%\",\"15-20%\",\"20-25%\",\"25-30%\"]\n",
    "per=[round((len(loandf[(loandf.dti_group==oo) & (loandf.loan_status==\"Charged Off\")]))/\n",
    "    len(loandf[(loandf.dti_group==oo)]),2)*100 for oo in o]\n",
    "ax[1].set_ylabel('Percent%')\n",
    "sns.barplot(x=o,y=per,ax=ax[1])\n",
    "\n",
    "plt.xticks(rotation=90)\n",
    "plt.show()\n"
   ]
  },
  {
   "cell_type": "code",
   "execution_count": 69,
   "id": "dae1f6f6-d422-48aa-a539-07ef1ec5358d",
   "metadata": {},
   "outputs": [],
   "source": [
    "# we can se that as chances of getting default increase as the dti ratio increases.\n"
   ]
  },
  {
   "cell_type": "code",
   "execution_count": null,
   "id": "8a6faa6b-cacb-4f06-a0e9-61bf1b2111e7",
   "metadata": {},
   "outputs": [],
   "source": [
    "plt.rcParams[\"figure.figsize\"] = [10.00, 6]\n",
    "plt.rcParams[\"figure.autolayout\"] = True\n",
    "fig,ax=plt.subplots(ncols=2,nrows=1,sharex=True,sharey=False)\n",
    "for tick in ax[0].get_xticklabels():\n",
    "    tick.set_rotation(90)\n",
    "for tick in ax[1].get_xticklabels():\n",
    "    tick.set_rotation(90)\n",
    "sns.countplot(x=loandf.issue_year,hue=loandf.loan_status,ax=ax[0])\n",
    "\n",
    "o=['11','10','09','08','07']\n",
    "per=[round((len(loandf[(loandf.issue_year==oo) & (loandf.loan_status==\"Charged Off\")]))/\n",
    "    len(loandf[(loandf.issue_year==oo)]),2)*100 for oo in o]\n",
    "ax[1].set_ylabel('Percent%')\n",
    "sns.barplot(x=o,y=per,ax=ax[1])\n",
    "\n",
    "plt.xticks(rotation=90)\n",
    "plt.show()"
   ]
  },
  {
   "cell_type": "code",
   "execution_count": 71,
   "id": "1f3df53e-1857-41e8-b7c5-dde44618c569",
   "metadata": {},
   "outputs": [],
   "source": [
    "# We can see that major loans we taken in 2011 and 2010 but most of the relative\n",
    "# loan defaulter  were there in 2007 and 2008 that is pre kicking of 2008 crices \n",
    "# and then again in 2011"
   ]
  },
  {
   "cell_type": "code",
   "execution_count": null,
   "id": "5ae14ed9-4802-4679-9385-b4b6c4b21376",
   "metadata": {},
   "outputs": [],
   "source": [
    "sns.countplot(x=loandf.issue_year,hue=loandf.purpose)"
   ]
  },
  {
   "cell_type": "code",
   "execution_count": 73,
   "id": "c00d63d3-bc1b-46a7-9b40-e57b45937619",
   "metadata": {},
   "outputs": [],
   "source": [
    "#from 2011 to 2008  major loans were taken for debt consolidation\n"
   ]
  },
  {
   "cell_type": "code",
   "execution_count": null,
   "id": "fea4b7b2-4b9d-4d70-8eb2-a1d46fa39eb4",
   "metadata": {},
   "outputs": [],
   "source": [
    "ch=loandf[loandf.loan_status==\"Charged Off\"]\n",
    "sns.countplot(x=ch.purpose)\n",
    "plt.xticks(rotation=90)\n",
    "plt.show()"
   ]
  },
  {
   "cell_type": "code",
   "execution_count": 75,
   "id": "5ecc7d7d-c693-44c8-b027-32e6449dbc7a",
   "metadata": {},
   "outputs": [],
   "source": [
    "# loan takem for debt consolidation has high chances for defaulting.\n"
   ]
  },
  {
   "cell_type": "code",
   "execution_count": null,
   "id": "2fb7f52f-7af5-489e-90bf-ab2f7bde9914",
   "metadata": {},
   "outputs": [],
   "source": [
    "plt.rcParams[\"figure.figsize\"] = [10.00, 6]\n",
    "plt.rcParams[\"figure.autolayout\"] = True\n",
    "fig,ax=plt.subplots(ncols=2,nrows=1,sharex=True,sharey=False)\n",
    "for tick in ax[0].get_xticklabels():\n",
    "    tick.set_rotation(90)\n",
    "for tick in ax[1].get_xticklabels():\n",
    "    tick.set_rotation(90)\n",
    "    \n",
    "ch=loandf[loandf.loan_status==\"Charged Off\"]\n",
    "sns.countplot(x=ch.purpose,ax=ax[0])\n",
    "\n",
    "o=loandf.purpose.value_counts().index\n",
    "per=[round((len(loandf[(loandf.purpose==oo) & (loandf.loan_status==\"Charged Off\")]))/\n",
    "    len(loandf[(loandf.purpose==oo)]),2)*100 for oo in o]\n",
    "ax[1].set_ylabel('Percent%')\n",
    "sns.barplot(x=o,y=per,ax=ax[1])\n",
    "\n",
    "plt.xticks(rotation=90)\n",
    "plt.show()"
   ]
  },
  {
   "cell_type": "code",
   "execution_count": null,
   "id": "bd5ae238-007e-4034-ab53-4ccbe88b86c3",
   "metadata": {},
   "outputs": [],
   "source": [
    "o=loandf.purpose.value_counts().index\n",
    "per=[{oo,round((len(loandf[(loandf.purpose==oo) & (loandf.loan_status==\"Charged Off\")]))/\n",
    "    len(loandf[(loandf.purpose==oo)]),2)*100} for oo in o]\n",
    "per"
   ]
  },
  {
   "cell_type": "code",
   "execution_count": null,
   "id": "565e4832-3a09-4e7a-a976-2004a0913a4e",
   "metadata": {},
   "outputs": [],
   "source": [
    "plt.rcParams[\"figure.figsize\"] = [10.00, 6]\n",
    "plt.rcParams[\"figure.autolayout\"] = True\n",
    "fig,ax=plt.subplots(ncols=2,nrows=1,sharex=True,sharey=False)\n",
    "for tick in ax[0].get_xticklabels():\n",
    "    tick.set_rotation(90)\n",
    "for tick in ax[1].get_xticklabels():\n",
    "    tick.set_rotation(90)\n",
    "ch=loandf[loandf.loan_status==\"Charged Off\"]\n",
    "sns.countplot(x=ch.grade,order=['A','B','C','D','E','F','G'],ax=ax[0])\n",
    "\n",
    "o=loandf.grade.value_counts().index\n",
    "per=[round((len(loandf[(loandf.grade==oo) & (loandf.loan_status==\"Charged Off\")]))/\n",
    "    len(loandf[(loandf.grade==oo)]),2)*100 for oo in o]\n",
    "ax[1].set_ylabel('Percent%')\n",
    "sns.barplot(x=o,y=per,ax=ax[1])\n",
    "\n",
    "plt.xticks(rotation=90)\n",
    "plt.show()\n",
    "\n"
   ]
  },
  {
   "cell_type": "code",
   "execution_count": null,
   "id": "821384f7-0746-4f75-85c8-eb7b73d67412",
   "metadata": {},
   "outputs": [],
   "source": [
    "plt.rcParams[\"figure.figsize\"] = [10.00, 6]\n",
    "plt.rcParams[\"figure.autolayout\"] = True\n",
    "fig,ax=plt.subplots(ncols=2,nrows=1,sharex=True,sharey=False)\n",
    "for tick in ax[0].get_xticklabels():\n",
    "    tick.set_rotation(90)\n",
    "for tick in ax[1].get_xticklabels():\n",
    "    tick.set_rotation(90)\n",
    "ch=loandf[loandf.loan_status==\"Charged Off\"]\n",
    "sns.countplot(x=ch.sub_grade,order=sorted(ch.sub_grade.unique()),ax=ax[0])\n",
    "\n",
    "o=loandf.sub_grade.value_counts().index\n",
    "per=[round((len(loandf[(loandf.sub_grade==oo) & (loandf.loan_status==\"Charged Off\")]))/\n",
    "    len(loandf[(loandf.sub_grade==oo)]),2)*100 for oo in o]\n",
    "ax[1].set_ylabel('Percent%')\n",
    "sns.barplot(x=o,y=per,ax=ax[1])\n",
    "\n",
    "plt.xticks(rotation=90)\n",
    "plt.show()"
   ]
  },
  {
   "cell_type": "code",
   "execution_count": null,
   "id": "fa76c33c-192d-4141-8417-aedb3c7859bc",
   "metadata": {},
   "outputs": [],
   "source": [
    "\n",
    "plt.rcParams[\"figure.figsize\"] = [10.00, 6]\n",
    "plt.rcParams[\"figure.autolayout\"] = True\n",
    "fig,ax=plt.subplots(ncols=2,nrows=1,sharex=True,sharey=False)\n",
    "for tick in ax[0].get_xticklabels():\n",
    "    tick.set_rotation(90)\n",
    "for tick in ax[1].get_xticklabels():\n",
    "    tick.set_rotation(90)\n",
    "sns.countplot(x=loandf.home_ownership,hue=loandf.loan_status,ax=ax[0])\n",
    "\n",
    "o=loandf.home_ownership.value_counts().index\n",
    "per=[round((len(loandf[(loandf.home_ownership==oo) & (loandf.loan_status==\"Charged Off\")]))/\n",
    "    len(loandf[(loandf.home_ownership==oo)]),2)*100 for oo in o]\n",
    "ax[1].set_ylabel('Percent%')\n",
    "sns.barplot(x=o,y=per,ax=ax[1])\n",
    "\n",
    "plt.xticks(rotation=90)\n",
    "plt.show()"
   ]
  },
  {
   "cell_type": "code",
   "execution_count": null,
   "id": "8a7c320b-d6e7-42d4-a3c3-2fce1d30e0d9",
   "metadata": {},
   "outputs": [],
   "source": [
    "\n",
    "plt.rcParams[\"figure.figsize\"] = [10.00, 6]\n",
    "plt.rcParams[\"figure.autolayout\"] = True\n",
    "fig,ax=plt.subplots(ncols=2,nrows=1,sharex=True,sharey=False)\n",
    "for tick in ax[0].get_xticklabels():\n",
    "    tick.set_rotation(90)\n",
    "for tick in ax[1].get_xticklabels():\n",
    "    tick.set_rotation(90)\n",
    "sns.countplot(x=loandf.verification_status,hue=loandf.loan_status,ax=ax[0])\n",
    "\n",
    "o=loandf.verification_status.value_counts().index\n",
    "per=[round((len(loandf[(loandf.verification_status==oo) & (loandf.loan_status==\"Charged Off\")]))/\n",
    "    len(loandf[(loandf.verification_status==oo)]),2)*100 for oo in o]\n",
    "ax[1].set_ylabel('Percent%')\n",
    "sns.barplot(x=o,y=per,ax=ax[1])\n",
    "\n",
    "plt.xticks(rotation=90)\n",
    "plt.show()"
   ]
  },
  {
   "cell_type": "code",
   "execution_count": null,
   "id": "0aa34a8b-dd18-4408-9e35-0ceb75cd185d",
   "metadata": {
    "scrolled": true
   },
   "outputs": [],
   "source": [
    "ch=loandf[(loandf.loan_status==\"Charged Off\") & (loandf.verification_status==\"Verified\")]\n",
    "sns.countplot(x=ch.home_ownership,hue=loandf.grade)"
   ]
  },
  {
   "cell_type": "code",
   "execution_count": null,
   "id": "e61bf126-0d3a-4050-94e9-8b10ef9670a3",
   "metadata": {},
   "outputs": [],
   "source": [
    "plt.rcParams[\"figure.figsize\"] = [10.00, 6]\n",
    "plt.rcParams[\"figure.autolayout\"] = True\n",
    "fig,ax=plt.subplots(ncols=2,nrows=1,sharex=True,sharey=False)\n",
    "for tick in ax[0].get_xticklabels():\n",
    "    tick.set_rotation(90)\n",
    "for tick in ax[1].get_xticklabels():\n",
    "    tick.set_rotation(90)\n",
    "sns.countplot(x=loandf.term,hue=loandf.loan_status,ax=ax[0])\n",
    "\n",
    "o=loandf.term.value_counts().index\n",
    "per=[round((len(loandf[(loandf.term==oo) & (loandf.loan_status==\"Charged Off\")]))/\n",
    "    len(loandf[(loandf.term==oo)]),2)*100 for oo in o]\n",
    "ax[1].set_ylabel('Percent%')\n",
    "sns.barplot(x=o,y=per,ax=ax[1])\n",
    "\n",
    "plt.xticks(rotation=90)\n",
    "plt.show()"
   ]
  },
  {
   "cell_type": "code",
   "execution_count": null,
   "id": "5c3aeddb-b1b1-4c98-9016-a99b1dfb510a",
   "metadata": {},
   "outputs": [],
   "source": [
    "loandf.info()"
   ]
  },
  {
   "cell_type": "code",
   "execution_count": null,
   "id": "2b8bb62b-1b77-47a8-93e8-475e1aac04c9",
   "metadata": {},
   "outputs": [],
   "source": [
    "loandf.int_rate.describe()"
   ]
  },
  {
   "cell_type": "code",
   "execution_count": null,
   "id": "3220348e-a642-4ae9-9fbf-266b3c7c63f6",
   "metadata": {},
   "outputs": [],
   "source": [
    "plt.rcParams[\"figure.figsize\"] = [10.00, 6]\n",
    "plt.rcParams[\"figure.autolayout\"] = True\n",
    "fig,ax=plt.subplots(ncols=2,nrows=1,sharex=True,sharey=False)\n",
    "for tick in ax[0].get_xticklabels():\n",
    "    tick.set_rotation(90)\n",
    "for tick in ax[1].get_xticklabels():\n",
    "    tick.set_rotation(90)\n",
    "sns.countplot(x=loandf.intrest_rate_group,hue=loandf.loan_status,order=[\"0-5%\",\"5-10%\",\"10-15%\",\"15-20%\",\"20-25%\"],ax=ax[0])\n",
    "\n",
    "o=[\"5-10%\",\"10-15%\",\"15-20%\",\"20-25%\"]\n",
    "per=[round((len(loandf[(loandf.intrest_rate_group==oo) & (loandf.loan_status==\"Charged Off\")]))/\n",
    "    len(loandf[(loandf.intrest_rate_group==oo)]),2)*100 for oo in o]\n",
    "ax[1].set_ylabel('Percent%')\n",
    "sns.barplot(x=o,y=per,ax=ax[1])\n",
    "\n",
    "plt.xticks(rotation=90)\n",
    "plt.show()\n"
   ]
  },
  {
   "cell_type": "code",
   "execution_count": null,
   "id": "008c84b1-4edf-4df8-b702-b25eea6ce9d3",
   "metadata": {},
   "outputs": [],
   "source": [
    "plt.rcParams[\"figure.figsize\"] = [10.00, 6]\n",
    "plt.rcParams[\"figure.autolayout\"] = True\n",
    "fig,ax=plt.subplots(ncols=2,nrows=1,sharex=True,sharey=False)\n",
    "for tick in ax[0].get_xticklabels():\n",
    "    tick.set_rotation(90)\n",
    "for tick in ax[1].get_xticklabels():\n",
    "    tick.set_rotation(90)\n",
    "sns.countplot(x=loandf.emp_length,hue=loandf.loan_status,ax=ax[0])\n",
    "\n",
    "o=loandf.emp_length.value_counts().index\n",
    "per=[round((len(loandf[(loandf.emp_length==oo) & (loandf.loan_status==\"Charged Off\")]))/\n",
    "    len(loandf[(loandf.emp_length==oo)]),2)*100 for oo in o]\n",
    "ax[1].set_ylabel('Percent%')\n",
    "sns.barplot(x=o,y=per,ax=ax[1])\n",
    "\n",
    "plt.xticks(rotation=90)\n",
    "plt.show()"
   ]
  },
  {
   "cell_type": "code",
   "execution_count": null,
   "id": "317d8ffd-b651-41c1-946b-a6d7d39a93eb",
   "metadata": {},
   "outputs": [],
   "source": [
    "plt.rcParams[\"figure.figsize\"] = [16.00, 6]\n",
    "plt.rcParams[\"figure.autolayout\"] = True\n",
    "fig,ax=plt.subplots(ncols=2,nrows=1,sharex=True,sharey=False)\n",
    "for tick in ax[0].get_xticklabels():\n",
    "    tick.set_rotation(90)\n",
    "for tick in ax[1].get_xticklabels():\n",
    "    tick.set_rotation(90)\n",
    "sns.countplot(x=loandf.addr_state,hue=loandf.loan_status,ax=ax[0])\n",
    "\n",
    "o=loandf.addr_state.value_counts().index\n",
    "per=[round((len(loandf[(loandf.addr_state==oo) & (loandf.loan_status==\"Charged Off\")]))/\n",
    "    len(loandf[(loandf.addr_state==oo)]),2)*100 for oo in o]\n",
    "ax[1].set_ylabel('Percent%')\n",
    "sns.barplot(x=o,y=per,ax=ax[1])\n",
    "\n",
    "plt.xticks(rotation=90)\n",
    "plt.show()"
   ]
  },
  {
   "cell_type": "code",
   "execution_count": null,
   "id": "50b4e1f3-b1f0-4b29-b140-2a28bae9ab65",
   "metadata": {},
   "outputs": [],
   "source": [
    "plt.rcParams[\"figure.figsize\"] = [16.00, 6]\n",
    "plt.rcParams[\"figure.autolayout\"] = True\n",
    "fig,ax=plt.subplots(ncols=2,nrows=1,sharex=True,sharey=False)\n",
    "for tick in ax[0].get_xticklabels():\n",
    "    tick.set_rotation(90)\n",
    "for tick in ax[1].get_xticklabels():\n",
    "    tick.set_rotation(90)\n",
    "sns.countplot(x=loandf.pub_rec_bankruptcies,hue=loandf.loan_status,ax=ax[0])\n",
    "\n",
    "o=loandf.pub_rec_bankruptcies .value_counts().index\n",
    "per=[round((len(loandf[(loandf.pub_rec_bankruptcies ==oo) & (loandf.loan_status==\"Charged Off\")]))/\n",
    "    len(loandf[(loandf.pub_rec_bankruptcies ==oo)]),2)*100 for oo in o]\n",
    "ax[1].set_ylabel('Percent%')\n",
    "sns.barplot(x=o,y=per,ax=ax[1])\n",
    "\n",
    "plt.xticks(rotation=90)\n",
    "plt.show()"
   ]
  },
  {
   "cell_type": "code",
   "execution_count": null,
   "id": "b48b5221-22d0-4690-b4dc-4b38de702a25",
   "metadata": {},
   "outputs": [],
   "source": [
    "plt.rcParams[\"figure.figsize\"] = [16.00, 6]\n",
    "plt.rcParams[\"figure.autolayout\"] = True\n",
    "fig,ax=plt.subplots(ncols=2,nrows=1,sharex=True,sharey=False)\n",
    "for tick in ax[0].get_xticklabels():\n",
    "    tick.set_rotation(90)\n",
    "for tick in ax[1].get_xticklabels():\n",
    "    tick.set_rotation(90)\n",
    "sns.countplot(x=loandf.pub_rec,hue=loandf.loan_status,ax=ax[0])\n",
    "\n",
    "o=loandf.pub_rec.value_counts().index\n",
    "per=[round((len(loandf[(loandf.pub_rec ==oo) & (loandf.loan_status==\"Charged Off\")]))/\n",
    "    len(loandf[(loandf.pub_rec==oo)]),2)*100 for oo in o]\n",
    "ax[1].set_ylabel('Percent%')\n",
    "sns.barplot(x=o,y=per,ax=ax[1])\n",
    "\n",
    "plt.xticks(rotation=90)\n",
    "plt.show()"
   ]
  },
  {
   "cell_type": "code",
   "execution_count": null,
   "id": "238de8e5-4c05-4b56-b47d-3df4924a22b6",
   "metadata": {},
   "outputs": [],
   "source": [
    "ch=loandf[loandf.loan_status == \"Charged Off\"]\n",
    "sns.countplot(x=ch.dti_group,hue=ch.purpose,order=[\"0-5%\",\"5-10%\",\"10-15%\",\"15-20%\",\"20-25%\",\"25-30%\"])\n",
    "plt.show()\n",
    "ot=[\"0-5%\",\"5-10%\",\"10-15%\",\"15-20%\",\"20-25%\",\"25-30%\"]\n",
    "op=loandf.purpose.value_counts().index\n",
    "for o_ot in ot:\n",
    "    pp=ch[(ch.dti_group == o_ot)]\n",
    "    per=[round(len(pp[(pp.purpose == p_op)])/len(loandf[(loandf.dti_group == o_ot)& (loandf.purpose == p_op)]),2)*100 for p_op in op]\n",
    "    plt.title(o_ot)\n",
    "    sns.barplot(x=op,y=per)\n",
    "    plt.xticks(rotation=90)\n",
    "    plt.show()\n",
    "\n",
    "      \n"
   ]
  },
  {
   "cell_type": "code",
   "execution_count": null,
   "id": "d3137715-e703-4f44-96d3-6570dbbfee54",
   "metadata": {},
   "outputs": [],
   "source": [
    "ch=loandf[loandf.loan_status == \"Charged Off\"]\n",
    "\n",
    "ot=[\"0-5%\",\"5-10%\",\"10-15%\",\"15-20%\",\"20-25%\",\"25-30%\"]\n",
    "op=loandf.term.value_counts().index\n",
    "for o_ot in ot:\n",
    "    pp=ch[(ch.dti_group == o_ot)]\n",
    "    per=[round(len(pp[(pp.term == p_op)])/len(loandf[(loandf.dti_group == o_ot)& (loandf.term == p_op)]),2)*100 for p_op in op]\n",
    "    plt.title(o_ot)\n",
    "    sns.barplot(x=op,y=per)\n",
    "    plt.xticks(rotation=90)\n",
    "    plt.show()"
   ]
  },
  {
   "cell_type": "code",
   "execution_count": null,
   "id": "1fdc4d2b-bf08-46a4-90af-de3472daeeee",
   "metadata": {},
   "outputs": [],
   "source": [
    "ch=loandf[loandf.loan_status == \"Charged Off\"]\n",
    "\n",
    "ot=[\"0-5%\",\"5-10%\",\"10-15%\",\"15-20%\",\"20-25%\",\"25-30%\"]\n",
    "op=loandf.emp_length.value_counts().index\n",
    "for o_ot in ot:\n",
    "    pp=ch[(ch.dti_group == o_ot)]\n",
    "    per=[round(len(pp[(pp.emp_length == p_op)])/len(loandf[(loandf.dti_group == o_ot)& (loandf.emp_length == p_op)]),2)*100 for p_op in op]\n",
    "    plt.title(o_ot)\n",
    "    sns.barplot(x=op,y=per)\n",
    "    plt.xticks(rotation=90)\n",
    "    plt.show()"
   ]
  },
  {
   "cell_type": "code",
   "execution_count": null,
   "id": "6abd03e2-283c-4979-a939-a50b2fa91044",
   "metadata": {},
   "outputs": [],
   "source": []
  }
 ],
 "metadata": {
  "kernelspec": {
   "display_name": "Python 3",
   "language": "python",
   "name": "python3"
  },
  "language_info": {
   "codemirror_mode": {
    "name": "ipython",
    "version": 3
   },
   "file_extension": ".py",
   "mimetype": "text/x-python",
   "name": "python",
   "nbconvert_exporter": "python",
   "pygments_lexer": "ipython3",
   "version": "3.11.9"
  }
 },
 "nbformat": 4,
 "nbformat_minor": 5
}
